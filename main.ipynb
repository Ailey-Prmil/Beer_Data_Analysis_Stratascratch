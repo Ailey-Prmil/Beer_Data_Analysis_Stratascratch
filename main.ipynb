{
 "cells": [
  {
   "cell_type": "markdown",
   "metadata": {},
   "source": [
    "# BEER DATA ANALYSIS (STRATASCRATCH)"
   ]
  },
  {
   "cell_type": "code",
   "execution_count": 2,
   "metadata": {},
   "outputs": [],
   "source": [
    "import pandas as pd\n",
    "import numpy as np"
   ]
  },
  {
   "cell_type": "code",
   "execution_count": 3,
   "metadata": {},
   "outputs": [
    {
     "name": "stdout",
     "output_type": "stream",
     "text": [
      "        beer_ABV  beer_beerId  beer_brewerId               beer_name  \\\n",
      "0            5.0        47986          10325            Sausa Weizen   \n",
      "1            6.2        48213          10325                Red Moon   \n",
      "2            6.5        48215          10325  Black Horse Black Beer   \n",
      "3            5.0        47969          10325              Sausa Pils   \n",
      "4            7.7        64883           1075           Cauldron DIPA   \n",
      "...          ...          ...            ...                     ...   \n",
      "528865       NaN         4032           3340       Dinkel Acker Dark   \n",
      "528866       NaN         4032           3340       Dinkel Acker Dark   \n",
      "528867       NaN         4032           3340       Dinkel Acker Dark   \n",
      "528868       NaN         4032           3340       Dinkel Acker Dark   \n",
      "528869       NaN         4032           3340       Dinkel Acker Dark   \n",
      "\n",
      "                            beer_style  review_appearance  review_palette  \\\n",
      "0                           Hefeweizen                2.5             2.0   \n",
      "1                   English Strong Ale                3.0             2.5   \n",
      "2               Foreign / Export Stout                3.0             2.5   \n",
      "3                      German Pilsener                3.5             3.0   \n",
      "4       American Double / Imperial IPA                4.0             4.5   \n",
      "...                                ...                ...             ...   \n",
      "528865             Munich Dunkel Lager                4.0             3.0   \n",
      "528866             Munich Dunkel Lager                4.0             3.5   \n",
      "528867             Munich Dunkel Lager                4.0             4.0   \n",
      "528868             Munich Dunkel Lager                4.0             3.0   \n",
      "528869             Munich Dunkel Lager                4.0             4.0   \n",
      "\n",
      "        review_overall  review_taste review_profileName  review_aroma  \\\n",
      "0                  1.5           1.5            stcules           1.5   \n",
      "1                  3.0           3.0            stcules           3.0   \n",
      "2                  3.0           3.0            stcules           3.0   \n",
      "3                  3.0           2.5            stcules           3.0   \n",
      "4                  4.0           4.0     johnmichaelsen           4.5   \n",
      "...                ...           ...                ...           ...   \n",
      "528865             4.0           3.5    orangemoustache           4.0   \n",
      "528866             3.0           3.0        MisterStout           3.0   \n",
      "528867             4.5           4.0            meechum           4.5   \n",
      "528868             4.0           4.0          Dodo2step           4.5   \n",
      "528869             4.0           4.0         jenbys2001           4.0   \n",
      "\n",
      "                                              review_text  review_time  \n",
      "0       A lot of foam. But a lot. In the smell some ba...   1234817823  \n",
      "1       Dark red color, light beige foam, average. In ...   1235915097  \n",
      "2       Almost totally black. Beige foam, quite compac...   1235916604  \n",
      "3       Golden yellow color. White, compact foam, quit...   1234725145  \n",
      "4       According to the website, the style for the Ca...   1293735206  \n",
      "...                                                   ...          ...  \n",
      "528865  A-pours a reddish amber that looks very nice,l...   1205212721  \n",
      "528866  I don't really have anything special to say ab...   1203490783  \n",
      "528867  Had this on tap at Vreny's Beirgarten A - Came...   1201320897  \n",
      "528868  Purchased at Market Cross Pub in carlisle, PA....   1201215290  \n",
      "528869  I ordered a mug of this beer at Schnitzelhaus,...   1200336367  \n",
      "\n",
      "[528870 rows x 13 columns]\n"
     ]
    }
   ],
   "source": [
    "PATH = \"./datasets/BeerDataScienceProject.tar.bz2\"\n",
    "df = pd.read_csv(PATH, compression=\"bz2\")\n",
    "print (df)"
   ]
  },
  {
   "cell_type": "code",
   "execution_count": 4,
   "metadata": {},
   "outputs": [
    {
     "name": "stdout",
     "output_type": "stream",
     "text": [
      "review_overall\n",
      "5.0     31028\n",
      "4.5    110928\n",
      "4.0    196544\n",
      "3.5     98901\n",
      "3.0     53707\n",
      "2.5     18539\n",
      "2.0     11931\n",
      "1.5      3996\n",
      "1.0      3293\n",
      "0.0         3\n",
      "Name: count, dtype: int64\n"
     ]
    }
   ],
   "source": [
    "print (df[\"review_overall\"].value_counts().sort_index(ascending=False))"
   ]
  },
  {
   "cell_type": "code",
   "execution_count": 5,
   "metadata": {},
   "outputs": [
    {
     "data": {
      "text/plain": [
       "(528870, 13)"
      ]
     },
     "execution_count": 5,
     "metadata": {},
     "output_type": "execute_result"
    }
   ],
   "source": [
    "df.shape"
   ]
  },
  {
   "cell_type": "code",
   "execution_count": 6,
   "metadata": {},
   "outputs": [
    {
     "data": {
      "text/html": [
       "<div>\n",
       "<style scoped>\n",
       "    .dataframe tbody tr th:only-of-type {\n",
       "        vertical-align: middle;\n",
       "    }\n",
       "\n",
       "    .dataframe tbody tr th {\n",
       "        vertical-align: top;\n",
       "    }\n",
       "\n",
       "    .dataframe thead th {\n",
       "        text-align: right;\n",
       "    }\n",
       "</style>\n",
       "<table border=\"1\" class=\"dataframe\">\n",
       "  <thead>\n",
       "    <tr style=\"text-align: right;\">\n",
       "      <th></th>\n",
       "      <th>beer_ABV</th>\n",
       "      <th>beer_beerId</th>\n",
       "      <th>beer_brewerId</th>\n",
       "      <th>review_appearance</th>\n",
       "      <th>review_palette</th>\n",
       "      <th>review_overall</th>\n",
       "      <th>review_taste</th>\n",
       "      <th>review_aroma</th>\n",
       "      <th>review_time</th>\n",
       "    </tr>\n",
       "  </thead>\n",
       "  <tbody>\n",
       "    <tr>\n",
       "      <th>count</th>\n",
       "      <td>508590.000000</td>\n",
       "      <td>528870.000000</td>\n",
       "      <td>528870.000000</td>\n",
       "      <td>528870.000000</td>\n",
       "      <td>528870.000000</td>\n",
       "      <td>528870.000000</td>\n",
       "      <td>528870.000000</td>\n",
       "      <td>528870.000000</td>\n",
       "      <td>5.288700e+05</td>\n",
       "    </tr>\n",
       "    <tr>\n",
       "      <th>mean</th>\n",
       "      <td>7.017442</td>\n",
       "      <td>22098.466016</td>\n",
       "      <td>2598.423429</td>\n",
       "      <td>3.864522</td>\n",
       "      <td>3.758926</td>\n",
       "      <td>3.833197</td>\n",
       "      <td>3.765993</td>\n",
       "      <td>3.817350</td>\n",
       "      <td>1.224885e+09</td>\n",
       "    </tr>\n",
       "    <tr>\n",
       "      <th>std</th>\n",
       "      <td>2.204460</td>\n",
       "      <td>22158.284352</td>\n",
       "      <td>5281.805350</td>\n",
       "      <td>0.604010</td>\n",
       "      <td>0.685335</td>\n",
       "      <td>0.709962</td>\n",
       "      <td>0.669018</td>\n",
       "      <td>0.718903</td>\n",
       "      <td>7.605600e+07</td>\n",
       "    </tr>\n",
       "    <tr>\n",
       "      <th>min</th>\n",
       "      <td>0.010000</td>\n",
       "      <td>3.000000</td>\n",
       "      <td>1.000000</td>\n",
       "      <td>0.000000</td>\n",
       "      <td>1.000000</td>\n",
       "      <td>0.000000</td>\n",
       "      <td>1.000000</td>\n",
       "      <td>1.000000</td>\n",
       "      <td>8.843904e+08</td>\n",
       "    </tr>\n",
       "    <tr>\n",
       "      <th>25%</th>\n",
       "      <td>5.300000</td>\n",
       "      <td>1745.000000</td>\n",
       "      <td>132.000000</td>\n",
       "      <td>3.500000</td>\n",
       "      <td>3.500000</td>\n",
       "      <td>3.500000</td>\n",
       "      <td>3.500000</td>\n",
       "      <td>3.500000</td>\n",
       "      <td>1.174613e+09</td>\n",
       "    </tr>\n",
       "    <tr>\n",
       "      <th>50%</th>\n",
       "      <td>6.500000</td>\n",
       "      <td>14368.000000</td>\n",
       "      <td>394.000000</td>\n",
       "      <td>4.000000</td>\n",
       "      <td>4.000000</td>\n",
       "      <td>4.000000</td>\n",
       "      <td>4.000000</td>\n",
       "      <td>4.000000</td>\n",
       "      <td>1.240366e+09</td>\n",
       "    </tr>\n",
       "    <tr>\n",
       "      <th>75%</th>\n",
       "      <td>8.500000</td>\n",
       "      <td>40528.000000</td>\n",
       "      <td>1475.000000</td>\n",
       "      <td>4.000000</td>\n",
       "      <td>4.000000</td>\n",
       "      <td>4.500000</td>\n",
       "      <td>4.000000</td>\n",
       "      <td>4.500000</td>\n",
       "      <td>1.288560e+09</td>\n",
       "    </tr>\n",
       "    <tr>\n",
       "      <th>max</th>\n",
       "      <td>57.700000</td>\n",
       "      <td>77310.000000</td>\n",
       "      <td>27980.000000</td>\n",
       "      <td>5.000000</td>\n",
       "      <td>5.000000</td>\n",
       "      <td>5.000000</td>\n",
       "      <td>5.000000</td>\n",
       "      <td>5.000000</td>\n",
       "      <td>1.326277e+09</td>\n",
       "    </tr>\n",
       "  </tbody>\n",
       "</table>\n",
       "</div>"
      ],
      "text/plain": [
       "            beer_ABV    beer_beerId  beer_brewerId  review_appearance  \\\n",
       "count  508590.000000  528870.000000  528870.000000      528870.000000   \n",
       "mean        7.017442   22098.466016    2598.423429           3.864522   \n",
       "std         2.204460   22158.284352    5281.805350           0.604010   \n",
       "min         0.010000       3.000000       1.000000           0.000000   \n",
       "25%         5.300000    1745.000000     132.000000           3.500000   \n",
       "50%         6.500000   14368.000000     394.000000           4.000000   \n",
       "75%         8.500000   40528.000000    1475.000000           4.000000   \n",
       "max        57.700000   77310.000000   27980.000000           5.000000   \n",
       "\n",
       "       review_palette  review_overall   review_taste   review_aroma  \\\n",
       "count   528870.000000   528870.000000  528870.000000  528870.000000   \n",
       "mean         3.758926        3.833197       3.765993       3.817350   \n",
       "std          0.685335        0.709962       0.669018       0.718903   \n",
       "min          1.000000        0.000000       1.000000       1.000000   \n",
       "25%          3.500000        3.500000       3.500000       3.500000   \n",
       "50%          4.000000        4.000000       4.000000       4.000000   \n",
       "75%          4.000000        4.500000       4.000000       4.500000   \n",
       "max          5.000000        5.000000       5.000000       5.000000   \n",
       "\n",
       "        review_time  \n",
       "count  5.288700e+05  \n",
       "mean   1.224885e+09  \n",
       "std    7.605600e+07  \n",
       "min    8.843904e+08  \n",
       "25%    1.174613e+09  \n",
       "50%    1.240366e+09  \n",
       "75%    1.288560e+09  \n",
       "max    1.326277e+09  "
      ]
     },
     "execution_count": 6,
     "metadata": {},
     "output_type": "execute_result"
    }
   ],
   "source": [
    "df.describe()"
   ]
  },
  {
   "cell_type": "markdown",
   "metadata": {},
   "source": [
    "As there are 4 categories in beer review including: *review_appearance*, *review_palette, review_taste, review_aroma* and *review_overall*\n",
    "\n",
    "There are some erroneous rows containing 0 in **review_appearance** and **review_overall**. So the best way to trick these false data is to ignoree them"
   ]
  },
  {
   "cell_type": "code",
   "execution_count": 7,
   "metadata": {},
   "outputs": [],
   "source": [
    "df = df[df[\"review_appearance\"] > 0]\n",
    "df = df[df[\"review_overall\"] > 0]"
   ]
  },
  {
   "cell_type": "code",
   "execution_count": 8,
   "metadata": {},
   "outputs": [
    {
     "name": "stdout",
     "output_type": "stream",
     "text": [
      "<class 'pandas.core.frame.DataFrame'>\n",
      "Index: 528867 entries, 0 to 528869\n",
      "Data columns (total 13 columns):\n",
      " #   Column              Non-Null Count   Dtype  \n",
      "---  ------              --------------   -----  \n",
      " 0   beer_ABV            508587 non-null  float64\n",
      " 1   beer_beerId         528867 non-null  int64  \n",
      " 2   beer_brewerId       528867 non-null  int64  \n",
      " 3   beer_name           528867 non-null  object \n",
      " 4   beer_style          528867 non-null  object \n",
      " 5   review_appearance   528867 non-null  float64\n",
      " 6   review_palette      528867 non-null  float64\n",
      " 7   review_overall      528867 non-null  float64\n",
      " 8   review_taste        528867 non-null  float64\n",
      " 9   review_profileName  528752 non-null  object \n",
      " 10  review_aroma        528867 non-null  float64\n",
      " 11  review_text         528748 non-null  object \n",
      " 12  review_time         528867 non-null  int64  \n",
      "dtypes: float64(6), int64(3), object(4)\n",
      "memory usage: 56.5+ MB\n"
     ]
    }
   ],
   "source": [
    "df.info()"
   ]
  },
  {
   "cell_type": "markdown",
   "metadata": {},
   "source": [
    "To prevent some cases that 1 user may leave multiple reviews on the same products, we will need to drop those duplicates to ensure the quality of the data.\n",
    "\n",
    "We would lile 1 review per user per beer. Hence, we will keep the highest review_overall if there are duplicates."
   ]
  },
  {
   "cell_type": "code",
   "execution_count": 9,
   "metadata": {},
   "outputs": [],
   "source": [
    "df = df.sort_values(by=\"review_overall\", ascending=False).drop_duplicates(subset=[\"beer_beerId\", \"review_profileName\"],\n",
    "                                                                           keep=\"first\")"
   ]
  },
  {
   "cell_type": "code",
   "execution_count": 10,
   "metadata": {},
   "outputs": [
    {
     "data": {
      "text/plain": [
       "(503696, 13)"
      ]
     },
     "execution_count": 10,
     "metadata": {},
     "output_type": "execute_result"
    }
   ],
   "source": [
    "df.dropna(inplace=True)\n",
    "df.shape"
   ]
  },
  {
   "cell_type": "markdown",
   "metadata": {},
   "source": [
    "## Q1: Rank the top 3 breweries which produce the strongest beers.\n",
    "\n",
    "To determine whether the beers are strong or not, the level of \"alcohol by volume\" should be takeen into account. Hence, there are 2 most pivotal fields to answer thiis question.\n",
    "\n",
    "- beer_ABV\n",
    "- beer_brewerId"
   ]
  },
  {
   "cell_type": "code",
   "execution_count": 11,
   "metadata": {},
   "outputs": [
    {
     "data": {
      "text/plain": [
       "beer_brewerId\n",
       "6513     19.228824\n",
       "736      13.750000\n",
       "24215    12.466667\n",
       "36       12.445860\n",
       "8540     11.750000\n",
       "Name: beer_ABV, dtype: float64"
      ]
     },
     "execution_count": 11,
     "metadata": {},
     "output_type": "execute_result"
    }
   ],
   "source": [
    "strong_beer_avg_sort = df.groupby(\"beer_brewerId\")[\"beer_ABV\"].mean().sort_values(ascending=False)\n",
    "strong_beer_max_sort = df.groupby(\"beer_brewerId\")[\"beer_ABV\"].max().sort_values(ascending=False)\n",
    "strong_beer_avg_sort.iloc[:5]"
   ]
  },
  {
   "cell_type": "code",
   "execution_count": 12,
   "metadata": {},
   "outputs": [
    {
     "data": {
      "image/png": "[encoded data removed]",
      "text/plain": [
       "<Figure size 640x480 with 1 Axes>"
      ]
     },
     "metadata": {},
     "output_type": "display_data"
    }
   ],
   "source": [
    "import matplotlib.pyplot as plt\n",
    "\n",
    "plt.boxplot([strong_beer_avg_sort, strong_beer_max_sort], labels=[\"AVG\", \"MAX\"])\n",
    "plt.show()"
   ]
  },
  {
   "cell_type": "markdown",
   "metadata": {},
   "source": [
    "## Q2: Which year did beers enjoy the highest ratings?\n",
    "\n",
    "- The rating is recorded in the field of \"review_overall\"\n",
    "- The year of that particular review can be extracted from: \"review_time\"\n",
    "\n",
    "There are 2 factors to consider when judging whether a beer have the highest ratings or not\n",
    "1. Its average overall rating\n",
    "2. The number of review it gets\n",
    "\n",
    "Some beers with just a few reviews will eventually get higher average score but that does not mean it is actually popular or have the highest rating."
   ]
  },
  {
   "cell_type": "code",
   "execution_count": 13,
   "metadata": {},
   "outputs": [
    {
     "data": {
      "text/html": [
       "<div>\n",
       "<style scoped>\n",
       "    .dataframe tbody tr th:only-of-type {\n",
       "        vertical-align: middle;\n",
       "    }\n",
       "\n",
       "    .dataframe tbody tr th {\n",
       "        vertical-align: top;\n",
       "    }\n",
       "\n",
       "    .dataframe thead th {\n",
       "        text-align: right;\n",
       "    }\n",
       "</style>\n",
       "<table border=\"1\" class=\"dataframe\">\n",
       "  <thead>\n",
       "    <tr style=\"text-align: right;\">\n",
       "      <th></th>\n",
       "      <th>review_year</th>\n",
       "      <th>review_overall</th>\n",
       "    </tr>\n",
       "  </thead>\n",
       "  <tbody>\n",
       "    <tr>\n",
       "      <th>2</th>\n",
       "      <td>2000</td>\n",
       "      <td>4.233333</td>\n",
       "    </tr>\n",
       "    <tr>\n",
       "      <th>0</th>\n",
       "      <td>1998</td>\n",
       "      <td>4.045455</td>\n",
       "    </tr>\n",
       "    <tr>\n",
       "      <th>1</th>\n",
       "      <td>1999</td>\n",
       "      <td>4.000000</td>\n",
       "    </tr>\n",
       "    <tr>\n",
       "      <th>3</th>\n",
       "      <td>2001</td>\n",
       "      <td>3.965485</td>\n",
       "    </tr>\n",
       "    <tr>\n",
       "      <th>12</th>\n",
       "      <td>2010</td>\n",
       "      <td>3.869701</td>\n",
       "    </tr>\n",
       "    <tr>\n",
       "      <th>11</th>\n",
       "      <td>2009</td>\n",
       "      <td>3.868522</td>\n",
       "    </tr>\n",
       "    <tr>\n",
       "      <th>7</th>\n",
       "      <td>2005</td>\n",
       "      <td>3.845709</td>\n",
       "    </tr>\n",
       "    <tr>\n",
       "      <th>10</th>\n",
       "      <td>2008</td>\n",
       "      <td>3.840636</td>\n",
       "    </tr>\n",
       "    <tr>\n",
       "      <th>14</th>\n",
       "      <td>2012</td>\n",
       "      <td>3.839000</td>\n",
       "    </tr>\n",
       "    <tr>\n",
       "      <th>13</th>\n",
       "      <td>2011</td>\n",
       "      <td>3.833462</td>\n",
       "    </tr>\n",
       "  </tbody>\n",
       "</table>\n",
       "</div>"
      ],
      "text/plain": [
       "    review_year  review_overall\n",
       "2          2000        4.233333\n",
       "0          1998        4.045455\n",
       "1          1999        4.000000\n",
       "3          2001        3.965485\n",
       "12         2010        3.869701\n",
       "11         2009        3.868522\n",
       "7          2005        3.845709\n",
       "10         2008        3.840636\n",
       "14         2012        3.839000\n",
       "13         2011        3.833462"
      ]
     },
     "execution_count": 13,
     "metadata": {},
     "output_type": "execute_result"
    }
   ],
   "source": [
    "df[\"review_year\"] = pd.to_datetime(df[\"review_time\"], unit=\"s\").dt.year\n",
    "review_avg_sort_year = df.groupby(\n",
    "    \"review_year\")[\"review_overall\"].mean().to_frame().reset_index().sort_values(by=\"review_overall\",\n",
    "                                                                                 ascending=False)\n",
    "review_avg_sort_year.head(10)"
   ]
  },
  {
   "cell_type": "code",
   "execution_count": 14,
   "metadata": {},
   "outputs": [],
   "source": [
    "review_num_sort_year = df.groupby(\"review_year\").size().to_frame(\"review_count\").reset_index()\n",
    "q2 = review_num_sort_year.merge(review_avg_sort_year, on=\"review_year\", how=\"inner\")"
   ]
  },
  {
   "cell_type": "code",
   "execution_count": 15,
   "metadata": {},
   "outputs": [
    {
     "data": {
      "image/png": "[encoded data removed]",
      "text/plain": [
       "<Figure size 1300x700 with 2 Axes>"
      ]
     },
     "metadata": {},
     "output_type": "display_data"
    }
   ],
   "source": [
    "import matplotlib.pyplot as plt\n",
    "\n",
    "fig, ax = plt.subplots(layout=\"constrained\", figsize =(13,7))\n",
    "ax2 = ax.twinx()\n",
    "q2.plot(x=\"review_year\", y=\"review_count\", color='#64CCC5', kind=\"bar\", ax=ax, width = 0.2, position=0)\n",
    "q2.plot(x=\"review_year\", y=\"review_overall\", color='#176B87', kind=\"bar\", ax=ax2, width = 0.2, position=1)\n",
    "ax.set_ylabel(\"Count\", loc='center', color=\"#176B87\")\n",
    "\n",
    "plt.show()\n"
   ]
  },
  {
   "cell_type": "markdown",
   "metadata": {},
   "source": [
    "As it can be seen from the graph, the average overall scores barely change, it all range from around 3.8 to 4.5, yet the count of reviews in these year experience wild fluctuations. The highest count of reviews was seen in 2011 with more than a hundred thousand units, followed distantly by the year 2010 with roughly 90.000 units.\n",
    "\n",
    "Therefore, it can be argued that 2010 and 2011 are two years with highest rating reviews. Personally, if there must be only 1 answer, I am more inclined towards the year 2011 due to each enormous amount of reviews and a generally high average score (~3.8)"
   ]
  },
  {
   "cell_type": "markdown",
   "metadata": {},
   "source": [
    "## Q3: Based on the users' ratings, which factors are important among taste, aroma, appearance, and palette?\n"
   ]
  },
  {
   "cell_type": "markdown",
   "metadata": {},
   "source": [
    "Still could not figure out how to do it.\n",
    "\n",
    "! Learning more about correlation matrix\n",
    "\n",
    "Higher cor = higher importance\n"
   ]
  },
  {
   "cell_type": "code",
   "execution_count": 16,
   "metadata": {},
   "outputs": [
    {
     "data": {
      "text/html": [
       "<div>\n",
       "<style scoped>\n",
       "    .dataframe tbody tr th:only-of-type {\n",
       "        vertical-align: middle;\n",
       "    }\n",
       "\n",
       "    .dataframe tbody tr th {\n",
       "        vertical-align: top;\n",
       "    }\n",
       "\n",
       "    .dataframe thead th {\n",
       "        text-align: right;\n",
       "    }\n",
       "</style>\n",
       "<table border=\"1\" class=\"dataframe\">\n",
       "  <thead>\n",
       "    <tr style=\"text-align: right;\">\n",
       "      <th></th>\n",
       "      <th>review_taste</th>\n",
       "      <th>review_aroma</th>\n",
       "      <th>review_palette</th>\n",
       "      <th>review_appearance</th>\n",
       "      <th>review_overall</th>\n",
       "    </tr>\n",
       "    <tr>\n",
       "      <th>beer_beerId</th>\n",
       "      <th></th>\n",
       "      <th></th>\n",
       "      <th></th>\n",
       "      <th></th>\n",
       "      <th></th>\n",
       "    </tr>\n",
       "  </thead>\n",
       "  <tbody>\n",
       "    <tr>\n",
       "      <th>5</th>\n",
       "      <td>3.323810</td>\n",
       "      <td>3.342857</td>\n",
       "      <td>3.208333</td>\n",
       "      <td>3.488095</td>\n",
       "      <td>3.554762</td>\n",
       "    </tr>\n",
       "    <tr>\n",
       "      <th>6</th>\n",
       "      <td>3.514925</td>\n",
       "      <td>3.645235</td>\n",
       "      <td>3.514351</td>\n",
       "      <td>3.839265</td>\n",
       "      <td>3.709529</td>\n",
       "    </tr>\n",
       "    <tr>\n",
       "      <th>7</th>\n",
       "      <td>3.110687</td>\n",
       "      <td>3.103817</td>\n",
       "      <td>3.178626</td>\n",
       "      <td>3.251145</td>\n",
       "      <td>3.271756</td>\n",
       "    </tr>\n",
       "    <tr>\n",
       "      <th>8</th>\n",
       "      <td>3.301471</td>\n",
       "      <td>3.235294</td>\n",
       "      <td>3.080882</td>\n",
       "      <td>3.294118</td>\n",
       "      <td>3.647059</td>\n",
       "    </tr>\n",
       "    <tr>\n",
       "      <th>9</th>\n",
       "      <td>3.103448</td>\n",
       "      <td>3.043103</td>\n",
       "      <td>2.853448</td>\n",
       "      <td>3.051724</td>\n",
       "      <td>3.400862</td>\n",
       "    </tr>\n",
       "    <tr>\n",
       "      <th>...</th>\n",
       "      <td>...</td>\n",
       "      <td>...</td>\n",
       "      <td>...</td>\n",
       "      <td>...</td>\n",
       "      <td>...</td>\n",
       "    </tr>\n",
       "    <tr>\n",
       "      <th>77302</th>\n",
       "      <td>3.500000</td>\n",
       "      <td>3.500000</td>\n",
       "      <td>3.000000</td>\n",
       "      <td>3.000000</td>\n",
       "      <td>3.500000</td>\n",
       "    </tr>\n",
       "    <tr>\n",
       "      <th>77303</th>\n",
       "      <td>5.000000</td>\n",
       "      <td>4.500000</td>\n",
       "      <td>4.500000</td>\n",
       "      <td>4.500000</td>\n",
       "      <td>5.000000</td>\n",
       "    </tr>\n",
       "    <tr>\n",
       "      <th>77305</th>\n",
       "      <td>3.500000</td>\n",
       "      <td>4.000000</td>\n",
       "      <td>4.000000</td>\n",
       "      <td>4.000000</td>\n",
       "      <td>4.000000</td>\n",
       "    </tr>\n",
       "    <tr>\n",
       "      <th>77307</th>\n",
       "      <td>3.500000</td>\n",
       "      <td>3.500000</td>\n",
       "      <td>4.000000</td>\n",
       "      <td>5.000000</td>\n",
       "      <td>4.000000</td>\n",
       "    </tr>\n",
       "    <tr>\n",
       "      <th>77310</th>\n",
       "      <td>3.000000</td>\n",
       "      <td>3.500000</td>\n",
       "      <td>3.500000</td>\n",
       "      <td>3.500000</td>\n",
       "      <td>3.500000</td>\n",
       "    </tr>\n",
       "  </tbody>\n",
       "</table>\n",
       "<p>14990 rows × 5 columns</p>\n",
       "</div>"
      ],
      "text/plain": [
       "             review_taste  review_aroma  review_palette  review_appearance  \\\n",
       "beer_beerId                                                                  \n",
       "5                3.323810      3.342857        3.208333           3.488095   \n",
       "6                3.514925      3.645235        3.514351           3.839265   \n",
       "7                3.110687      3.103817        3.178626           3.251145   \n",
       "8                3.301471      3.235294        3.080882           3.294118   \n",
       "9                3.103448      3.043103        2.853448           3.051724   \n",
       "...                   ...           ...             ...                ...   \n",
       "77302            3.500000      3.500000        3.000000           3.000000   \n",
       "77303            5.000000      4.500000        4.500000           4.500000   \n",
       "77305            3.500000      4.000000        4.000000           4.000000   \n",
       "77307            3.500000      3.500000        4.000000           5.000000   \n",
       "77310            3.000000      3.500000        3.500000           3.500000   \n",
       "\n",
       "             review_overall  \n",
       "beer_beerId                  \n",
       "5                  3.554762  \n",
       "6                  3.709529  \n",
       "7                  3.271756  \n",
       "8                  3.647059  \n",
       "9                  3.400862  \n",
       "...                     ...  \n",
       "77302              3.500000  \n",
       "77303              5.000000  \n",
       "77305              4.000000  \n",
       "77307              4.000000  \n",
       "77310              3.500000  \n",
       "\n",
       "[14990 rows x 5 columns]"
      ]
     },
     "execution_count": 16,
     "metadata": {},
     "output_type": "execute_result"
    }
   ],
   "source": [
    "q3 = df.groupby(by=\"beer_beerId\")[[\n",
    "    \"review_taste\",\n",
    "    \"review_aroma\",\n",
    "    \"review_palette\",\n",
    "    \"review_appearance\",\n",
    "    \"review_overall\"\n",
    "]].mean()\n",
    "\n",
    "q3"
   ]
  },
  {
   "cell_type": "code",
   "execution_count": 17,
   "metadata": {},
   "outputs": [],
   "source": [
    "corr_matrix = q3.corr()"
   ]
  },
  {
   "cell_type": "code",
   "execution_count": 31,
   "metadata": {},
   "outputs": [],
   "source": [
    "def heatmap(data, row_labels, col_labels, ax=None,\n",
    "            cbar_kw=None, cbarlabel=\"\", **kwargs):\n",
    "\n",
    "    if ax is None:\n",
    "        ax = plt.gca()\n",
    "\n",
    "    if cbar_kw is None:\n",
    "        cbar_kw = {}\n",
    "\n",
    "    # Plot the heatmap\n",
    "    im = ax.imshow(data, **kwargs)\n",
    "\n",
    "    # Create colorbar\n",
    "    cbar = ax.figure.colorbar(im, ax=ax, **cbar_kw)\n",
    "    cbar.ax.set_ylabel(cbarlabel, rotation=-90, va=\"bottom\")\n",
    "\n",
    "    # Show all ticks and label them with the respective list entries.\n",
    "    ax.set_xticks(np.arange(data.shape[1]), labels=col_labels)\n",
    "    ax.set_yticks(np.arange(data.shape[0]), labels=row_labels)\n",
    "\n",
    "    # Let the horizontal axes labeling appear on top.\n",
    "    ax.tick_params(top=True, bottom=False,\n",
    "                   labeltop=True, labelbottom=False)\n",
    "\n",
    "    # Rotate the tick labels and set their alignment.\n",
    "    plt.setp(ax.get_xticklabels(), rotation=-30, ha=\"right\",\n",
    "             rotation_mode=\"anchor\")\n",
    "\n",
    "    # Turn spines off and create white grid --> remove outer border\n",
    "    ax.spines[:].set_visible(False)\n",
    "\n",
    "    ax.set_xticks(np.arange(data.shape[1]+1)-.5, minor=True)\n",
    "    ax.set_yticks(np.arange(data.shape[0]+1)-.5, minor=True)\n",
    "    ax.grid(which=\"minor\", color=\"w\", linestyle='-', linewidth=3)\n",
    "    ax.tick_params(which=\"minor\", bottom=False, left=False)\n",
    "\n",
    "    return im, cbar\n"
   ]
  },
  {
   "cell_type": "code",
   "execution_count": 32,
   "metadata": {},
   "outputs": [
    {
     "data": {
      "image/png": "[encoded data removed]",
      "text/plain": [
       "<Figure size 640x480 with 2 Axes>"
      ]
     },
     "metadata": {},
     "output_type": "display_data"
    }
   ],
   "source": [
    "fig, ax = plt.subplots()\n",
    "\n",
    "im, cbar = heatmap(corr_matrix, corr_matrix.index, corr_matrix.columns, ax=ax,\n",
    "                   cmap=\"Blues\", cbarlabel=\"__\")\n",
    "\n",
    "fig.tight_layout()\n",
    "plt.show()"
   ]
  },
  {
   "cell_type": "markdown",
   "metadata": {},
   "source": [
    "Practically, the one which has the largest coefficient witih review overall (according to the graph) is review_aroma with approximately 0,87. Hence, we can conclude that user mostly depend on aroma to judge the quality of the beer.\n"
   ]
  },
  {
   "cell_type": "markdown",
   "metadata": {},
   "source": [
    "## Q4: If you were to recommend 3 beers to your friends based on this data, which ones would you recommend?"
   ]
  },
  {
   "cell_type": "markdown",
   "metadata": {},
   "source": [
    "To recommend 3 beers, it is important to know our friends' preference.\n",
    "\n",
    "Let say that, my friend is Tom. He is 19 years old. He does't have quite a good drinking capacity.\n",
    "> \"beer_ABV\" is then an important factor (should be limit to 5 unit - below average)\n",
    "\n",
    "He doesn't care much about the beer's style or appearance but want his beer to have an excellent taste and great aroma.\n",
    "> pay attention to \"review_aroma\" and \"review_taste\"\n",
    "\n",
    "Another crucial note is that, more reviews a beer gets, more accurate its rating is. So we should exclude all the beers which have fewer than 50 reviews. (50 is just an intuitive number)\n"
   ]
  },
  {
   "cell_type": "code",
   "execution_count": 76,
   "metadata": {},
   "outputs": [],
   "source": [
    "quality = df.groupby(\"beer_beerId\")[[\n",
    "    \"beer_ABV\",\n",
    "    \"review_taste\",\n",
    "    \"review_aroma\",\n",
    "    \"review_palette\",\n",
    "    \"review_appearance\",\n",
    "    \"review_overall\"\n",
    "]].mean()\n",
    "#recommendation = quality.loc[(quality[\"beer_ABV\"]<=5.0) & (quality[\"review_aroma\"]==5.0) & (quality[\"review_taste\"]==5.0)]\n",
    "\n",
    "review_num = df.groupby(\"beer_beerId\").size().to_frame(\"review_count\").reset_index()\n",
    "recommendation = quality.merge(review_num, on='beer_beerId', how='inner')\n",
    "recommendation = recommendation.loc[(recommendation[\"beer_ABV\"]<=5.0) & \n",
    "                   (recommendation[\"review_aroma\"]>4.0) &\n",
    "                   (recommendation[\"review_taste\"]>4.0) &\n",
    "                   (recommendation[\"review_count\"]>=100)]\n",
    "recommendation = recommendation[[\"beer_beerId\", \"beer_ABV\", \"review_taste\", \"review_aroma\", \"review_count\"]]"
   ]
  },
  {
   "cell_type": "code",
   "execution_count": 81,
   "metadata": {},
   "outputs": [
    {
     "data": {
      "text/html": [
       "<div>\n",
       "<style scoped>\n",
       "    .dataframe tbody tr th:only-of-type {\n",
       "        vertical-align: middle;\n",
       "    }\n",
       "\n",
       "    .dataframe tbody tr th {\n",
       "        vertical-align: top;\n",
       "    }\n",
       "\n",
       "    .dataframe thead th {\n",
       "        text-align: right;\n",
       "    }\n",
       "</style>\n",
       "<table border=\"1\" class=\"dataframe\">\n",
       "  <thead>\n",
       "    <tr style=\"text-align: right;\">\n",
       "      <th></th>\n",
       "      <th>beer_beerId</th>\n",
       "      <th>beer_ABV</th>\n",
       "      <th>review_count</th>\n",
       "      <th>2f_review</th>\n",
       "    </tr>\n",
       "  </thead>\n",
       "  <tbody>\n",
       "    <tr>\n",
       "      <th>105</th>\n",
       "      <td>571</td>\n",
       "      <td>5.0</td>\n",
       "      <td>2024</td>\n",
       "      <td>4.233819</td>\n",
       "    </tr>\n",
       "    <tr>\n",
       "      <th>106</th>\n",
       "      <td>572</td>\n",
       "      <td>5.0</td>\n",
       "      <td>1149</td>\n",
       "      <td>4.117929</td>\n",
       "    </tr>\n",
       "    <tr>\n",
       "      <th>295</th>\n",
       "      <td>1577</td>\n",
       "      <td>4.0</td>\n",
       "      <td>824</td>\n",
       "      <td>4.330400</td>\n",
       "    </tr>\n",
       "    <tr>\n",
       "      <th>297</th>\n",
       "      <td>1585</td>\n",
       "      <td>4.0</td>\n",
       "      <td>708</td>\n",
       "      <td>4.305085</td>\n",
       "    </tr>\n",
       "    <tr>\n",
       "      <th>310</th>\n",
       "      <td>1632</td>\n",
       "      <td>5.0</td>\n",
       "      <td>525</td>\n",
       "      <td>4.166190</td>\n",
       "    </tr>\n",
       "    <tr>\n",
       "      <th>337</th>\n",
       "      <td>1703</td>\n",
       "      <td>5.0</td>\n",
       "      <td>412</td>\n",
       "      <td>4.317961</td>\n",
       "    </tr>\n",
       "    <tr>\n",
       "      <th>490</th>\n",
       "      <td>2557</td>\n",
       "      <td>5.0</td>\n",
       "      <td>556</td>\n",
       "      <td>4.134442</td>\n",
       "    </tr>\n",
       "    <tr>\n",
       "      <th>491</th>\n",
       "      <td>2558</td>\n",
       "      <td>5.0</td>\n",
       "      <td>216</td>\n",
       "      <td>4.188657</td>\n",
       "    </tr>\n",
       "    <tr>\n",
       "      <th>524</th>\n",
       "      <td>2704</td>\n",
       "      <td>5.0</td>\n",
       "      <td>531</td>\n",
       "      <td>4.081921</td>\n",
       "    </tr>\n",
       "    <tr>\n",
       "      <th>689</th>\n",
       "      <td>3659</td>\n",
       "      <td>5.0</td>\n",
       "      <td>245</td>\n",
       "      <td>4.375510</td>\n",
       "    </tr>\n",
       "    <tr>\n",
       "      <th>980</th>\n",
       "      <td>5281</td>\n",
       "      <td>5.0</td>\n",
       "      <td>270</td>\n",
       "      <td>4.378704</td>\n",
       "    </tr>\n",
       "    <tr>\n",
       "      <th>1037</th>\n",
       "      <td>5560</td>\n",
       "      <td>4.1</td>\n",
       "      <td>105</td>\n",
       "      <td>4.159524</td>\n",
       "    </tr>\n",
       "    <tr>\n",
       "      <th>1358</th>\n",
       "      <td>7435</td>\n",
       "      <td>5.0</td>\n",
       "      <td>366</td>\n",
       "      <td>4.174863</td>\n",
       "    </tr>\n",
       "    <tr>\n",
       "      <th>2110</th>\n",
       "      <td>11888</td>\n",
       "      <td>5.0</td>\n",
       "      <td>290</td>\n",
       "      <td>4.119828</td>\n",
       "    </tr>\n",
       "    <tr>\n",
       "      <th>2412</th>\n",
       "      <td>13825</td>\n",
       "      <td>5.0</td>\n",
       "      <td>170</td>\n",
       "      <td>4.269118</td>\n",
       "    </tr>\n",
       "    <tr>\n",
       "      <th>2413</th>\n",
       "      <td>13826</td>\n",
       "      <td>5.0</td>\n",
       "      <td>128</td>\n",
       "      <td>4.304688</td>\n",
       "    </tr>\n",
       "    <tr>\n",
       "      <th>3578</th>\n",
       "      <td>20014</td>\n",
       "      <td>4.0</td>\n",
       "      <td>315</td>\n",
       "      <td>4.100794</td>\n",
       "    </tr>\n",
       "    <tr>\n",
       "      <th>3868</th>\n",
       "      <td>21683</td>\n",
       "      <td>5.0</td>\n",
       "      <td>171</td>\n",
       "      <td>4.266082</td>\n",
       "    </tr>\n",
       "    <tr>\n",
       "      <th>6348</th>\n",
       "      <td>36316</td>\n",
       "      <td>5.0</td>\n",
       "      <td>155</td>\n",
       "      <td>4.559677</td>\n",
       "    </tr>\n",
       "    <tr>\n",
       "      <th>8700</th>\n",
       "      <td>48434</td>\n",
       "      <td>4.8</td>\n",
       "      <td>1016</td>\n",
       "      <td>4.064961</td>\n",
       "    </tr>\n",
       "    <tr>\n",
       "      <th>9742</th>\n",
       "      <td>53433</td>\n",
       "      <td>4.8</td>\n",
       "      <td>279</td>\n",
       "      <td>4.122760</td>\n",
       "    </tr>\n",
       "  </tbody>\n",
       "</table>\n",
       "</div>"
      ],
      "text/plain": [
       "      beer_beerId  beer_ABV  review_count  2f_review\n",
       "105           571       5.0          2024   4.233819\n",
       "106           572       5.0          1149   4.117929\n",
       "295          1577       4.0           824   4.330400\n",
       "297          1585       4.0           708   4.305085\n",
       "310          1632       5.0           525   4.166190\n",
       "337          1703       5.0           412   4.317961\n",
       "490          2557       5.0           556   4.134442\n",
       "491          2558       5.0           216   4.188657\n",
       "524          2704       5.0           531   4.081921\n",
       "689          3659       5.0           245   4.375510\n",
       "980          5281       5.0           270   4.378704\n",
       "1037         5560       4.1           105   4.159524\n",
       "1358         7435       5.0           366   4.174863\n",
       "2110        11888       5.0           290   4.119828\n",
       "2412        13825       5.0           170   4.269118\n",
       "2413        13826       5.0           128   4.304688\n",
       "3578        20014       4.0           315   4.100794\n",
       "3868        21683       5.0           171   4.266082\n",
       "6348        36316       5.0           155   4.559677\n",
       "8700        48434       4.8          1016   4.064961\n",
       "9742        53433       4.8           279   4.122760"
      ]
     },
     "execution_count": 81,
     "metadata": {},
     "output_type": "execute_result"
    }
   ],
   "source": [
    "recommendation[\"2f_review\"] = recommendation[[\"review_aroma\", \"review_taste\"]].mean(axis=1)\n",
    "recommendation.drop([\"review_taste\", \"review_aroma\"], axis=1, inplace=True)\n",
    "recommendation"
   ]
  },
  {
   "cell_type": "code",
   "execution_count": 87,
   "metadata": {},
   "outputs": [
    {
     "data": {
      "text/html": [
       "<div>\n",
       "<style scoped>\n",
       "    .dataframe tbody tr th:only-of-type {\n",
       "        vertical-align: middle;\n",
       "    }\n",
       "\n",
       "    .dataframe tbody tr th {\n",
       "        vertical-align: top;\n",
       "    }\n",
       "\n",
       "    .dataframe thead th {\n",
       "        text-align: right;\n",
       "    }\n",
       "</style>\n",
       "<table border=\"1\" class=\"dataframe\">\n",
       "  <thead>\n",
       "    <tr style=\"text-align: right;\">\n",
       "      <th></th>\n",
       "      <th>beer_beerId</th>\n",
       "      <th>beer_ABV</th>\n",
       "      <th>review_count</th>\n",
       "      <th>2f_review</th>\n",
       "    </tr>\n",
       "  </thead>\n",
       "  <tbody>\n",
       "    <tr>\n",
       "      <th>6348</th>\n",
       "      <td>36316</td>\n",
       "      <td>5.0</td>\n",
       "      <td>155</td>\n",
       "      <td>4.559677</td>\n",
       "    </tr>\n",
       "    <tr>\n",
       "      <th>980</th>\n",
       "      <td>5281</td>\n",
       "      <td>5.0</td>\n",
       "      <td>270</td>\n",
       "      <td>4.378704</td>\n",
       "    </tr>\n",
       "    <tr>\n",
       "      <th>689</th>\n",
       "      <td>3659</td>\n",
       "      <td>5.0</td>\n",
       "      <td>245</td>\n",
       "      <td>4.375510</td>\n",
       "    </tr>\n",
       "  </tbody>\n",
       "</table>\n",
       "</div>"
      ],
      "text/plain": [
       "      beer_beerId  beer_ABV  review_count  2f_review\n",
       "6348        36316       5.0           155   4.559677\n",
       "980          5281       5.0           270   4.378704\n",
       "689          3659       5.0           245   4.375510"
      ]
     },
     "execution_count": 87,
     "metadata": {},
     "output_type": "execute_result"
    }
   ],
   "source": [
    "recommendation.sort_values([\"2f_review\"], ascending=False)[:3]"
   ]
  },
  {
   "cell_type": "markdown",
   "metadata": {},
   "source": [
    "## Q5: Which beer style seems to be the favourite based on the reviews written by users? How does written reviews compare to overall review score for the beer style?"
   ]
  },
  {
   "cell_type": "markdown",
   "metadata": {},
   "source": [
    "This question involves machine learning, particularly Sentiment Analysis. Practically, the simplest way to solve this is to use  VADER (Valence Aware Dictionary and sEntiment Reasoner) tool so as to explore the \"review_text\" columns.\n",
    "\n",
    "The tool will break the sentence down into 3 categories: positive, neutral and negative."
   ]
  },
  {
   "cell_type": "code",
   "execution_count": 88,
   "metadata": {},
   "outputs": [],
   "source": [
    "from nltk import download\n",
    "from nltk.sentiment.vader import SentimentIntensityAnalyzer"
   ]
  },
  {
   "cell_type": "code",
   "execution_count": 89,
   "metadata": {},
   "outputs": [
    {
     "data": {
      "text/plain": [
       "True"
      ]
     },
     "execution_count": 89,
     "metadata": {},
     "output_type": "execute_result"
    }
   ],
   "source": [
    "download(\"vader_lexicon\", quiet=True)"
   ]
  },
  {
   "cell_type": "code",
   "execution_count": 90,
   "metadata": {},
   "outputs": [
    {
     "data": {
      "text/plain": [
       "73150     0.9687\n",
       "456473    0.9736\n",
       "216758    0.9496\n",
       "276655    0.9908\n",
       "276664    0.9322\n",
       "330060    0.9081\n",
       "276688    0.3919\n",
       "276692    0.9134\n",
       "456368    0.9906\n",
       "276697    0.9901\n",
       "Name: review_sentiment, dtype: float64"
      ]
     },
     "execution_count": 90,
     "metadata": {},
     "output_type": "execute_result"
    }
   ],
   "source": [
    "analyser = SentimentIntensityAnalyzer()\n",
    "df[\"review_sentiment\"] = df[\"review_text\"].apply(lambda x: analyser.polarity_scores(text=x)[\"compound\"])\n",
    "df[\"review_sentiment\"].head(10)"
   ]
  },
  {
   "cell_type": "code",
   "execution_count": 91,
   "metadata": {},
   "outputs": [
    {
     "data": {
      "text/html": [
       "<div>\n",
       "<style scoped>\n",
       "    .dataframe tbody tr th:only-of-type {\n",
       "        vertical-align: middle;\n",
       "    }\n",
       "\n",
       "    .dataframe tbody tr th {\n",
       "        vertical-align: top;\n",
       "    }\n",
       "\n",
       "    .dataframe thead th {\n",
       "        text-align: right;\n",
       "    }\n",
       "</style>\n",
       "<table border=\"1\" class=\"dataframe\">\n",
       "  <thead>\n",
       "    <tr style=\"text-align: right;\">\n",
       "      <th></th>\n",
       "      <th>mean</th>\n",
       "      <th>count</th>\n",
       "    </tr>\n",
       "    <tr>\n",
       "      <th>beer_style</th>\n",
       "      <th></th>\n",
       "      <th></th>\n",
       "    </tr>\n",
       "  </thead>\n",
       "  <tbody>\n",
       "    <tr>\n",
       "      <th>Quadrupel (Quad)</th>\n",
       "      <td>0.857262</td>\n",
       "      <td>4808</td>\n",
       "    </tr>\n",
       "    <tr>\n",
       "      <th>Dortmunder / Export Lager</th>\n",
       "      <td>0.855526</td>\n",
       "      <td>1709</td>\n",
       "    </tr>\n",
       "    <tr>\n",
       "      <th>Flanders Red Ale</th>\n",
       "      <td>0.852636</td>\n",
       "      <td>2751</td>\n",
       "    </tr>\n",
       "    <tr>\n",
       "      <th>Roggenbier</th>\n",
       "      <td>0.850934</td>\n",
       "      <td>137</td>\n",
       "    </tr>\n",
       "    <tr>\n",
       "      <th>Braggot</th>\n",
       "      <td>0.850208</td>\n",
       "      <td>197</td>\n",
       "    </tr>\n",
       "    <tr>\n",
       "      <th>...</th>\n",
       "      <td>...</td>\n",
       "      <td>...</td>\n",
       "    </tr>\n",
       "    <tr>\n",
       "      <th>Happoshu</th>\n",
       "      <td>0.533456</td>\n",
       "      <td>55</td>\n",
       "    </tr>\n",
       "    <tr>\n",
       "      <th>American Malt Liquor</th>\n",
       "      <td>0.524823</td>\n",
       "      <td>1332</td>\n",
       "    </tr>\n",
       "    <tr>\n",
       "      <th>Japanese Rice Lager</th>\n",
       "      <td>0.516839</td>\n",
       "      <td>488</td>\n",
       "    </tr>\n",
       "    <tr>\n",
       "      <th>Light Lager</th>\n",
       "      <td>0.468848</td>\n",
       "      <td>4127</td>\n",
       "    </tr>\n",
       "    <tr>\n",
       "      <th>Low Alcohol Beer</th>\n",
       "      <td>0.396340</td>\n",
       "      <td>145</td>\n",
       "    </tr>\n",
       "  </tbody>\n",
       "</table>\n",
       "<p>104 rows × 2 columns</p>\n",
       "</div>"
      ],
      "text/plain": [
       "                               mean  count\n",
       "beer_style                                \n",
       "Quadrupel (Quad)           0.857262   4808\n",
       "Dortmunder / Export Lager  0.855526   1709\n",
       "Flanders Red Ale           0.852636   2751\n",
       "Roggenbier                 0.850934    137\n",
       "Braggot                    0.850208    197\n",
       "...                             ...    ...\n",
       "Happoshu                   0.533456     55\n",
       "American Malt Liquor       0.524823   1332\n",
       "Japanese Rice Lager        0.516839    488\n",
       "Light Lager                0.468848   4127\n",
       "Low Alcohol Beer           0.396340    145\n",
       "\n",
       "[104 rows x 2 columns]"
      ]
     },
     "execution_count": 91,
     "metadata": {},
     "output_type": "execute_result"
    }
   ],
   "source": [
    "df.groupby(\"beer_style\")[\"review_sentiment\"].agg(func=[\"mean\", \"count\"]).sort_values(by=\"mean\", ascending=False)"
   ]
  },
  {
   "cell_type": "markdown",
   "metadata": {},
   "source": [
    "According to sentiments extracted from review_text, Quadrupel (Quad) is the most favourite beer to users, with 0,857 point as shown above."
   ]
  },
  {
   "cell_type": "code",
   "execution_count": 94,
   "metadata": {},
   "outputs": [
    {
     "data": {
      "text/html": [
       "<div>\n",
       "<style scoped>\n",
       "    .dataframe tbody tr th:only-of-type {\n",
       "        vertical-align: middle;\n",
       "    }\n",
       "\n",
       "    .dataframe tbody tr th {\n",
       "        vertical-align: top;\n",
       "    }\n",
       "\n",
       "    .dataframe thead th {\n",
       "        text-align: right;\n",
       "    }\n",
       "</style>\n",
       "<table border=\"1\" class=\"dataframe\">\n",
       "  <thead>\n",
       "    <tr style=\"text-align: right;\">\n",
       "      <th></th>\n",
       "      <th>review_overall</th>\n",
       "      <th>review_sentiment</th>\n",
       "    </tr>\n",
       "  </thead>\n",
       "  <tbody>\n",
       "    <tr>\n",
       "      <th>review_overall</th>\n",
       "      <td>1.000000</td>\n",
       "      <td>0.259541</td>\n",
       "    </tr>\n",
       "    <tr>\n",
       "      <th>review_sentiment</th>\n",
       "      <td>0.259541</td>\n",
       "      <td>1.000000</td>\n",
       "    </tr>\n",
       "  </tbody>\n",
       "</table>\n",
       "</div>"
      ],
      "text/plain": [
       "                  review_overall  review_sentiment\n",
       "review_overall          1.000000          0.259541\n",
       "review_sentiment        0.259541          1.000000"
      ]
     },
     "execution_count": 94,
     "metadata": {},
     "output_type": "execute_result"
    }
   ],
   "source": [
    "q5 = df[df[\"beer_style\"]==\"Quadrupel (Quad)\"]\n",
    "q5[[\"review_overall\", \"review_sentiment\"]].corr()\n"
   ]
  },
  {
   "cell_type": "code",
   "execution_count": 97,
   "metadata": {},
   "outputs": [
    {
     "data": {
      "image/png": "[encoded data removed]",
      "text/plain": [
       "<Figure size 640x480 with 2 Axes>"
      ]
     },
     "metadata": {},
     "output_type": "display_data"
    }
   ],
   "source": [
    "review_category = [\n",
    "    \"review_taste\",\n",
    "    \"review_aroma\",\n",
    "    \"review_palette\",\n",
    "    \"review_appearance\",\n",
    "    \"review_sentiment\",\n",
    "    \"review_overall\"\n",
    "    ]\n",
    "\n",
    "fig, ax = plt.subplots()\n",
    "\n",
    "im, cbar = heatmap(q5[[\n",
    "    \"review_taste\",\n",
    "    \"review_aroma\",\n",
    "    \"review_palette\",\n",
    "    \"review_appearance\",\n",
    "    \"review_sentiment\",\n",
    "    \"review_overall\"]].corr(), review_category, review_category, ax=ax,\n",
    "                   cmap=\"Blues\", cbarlabel=\"\")\n",
    "\n",
    "fig.tight_layout()\n",
    "plt.show()"
   ]
  },
  {
   "cell_type": "markdown",
   "metadata": {},
   "source": [
    "All review attributes score similarly, at around 0.2 correlation. It means that usually, user tend to rate higher point than how their text expresses. This can happen due to some subsequent causes: \n",
    "\n",
    "This is expected because a single number (the overall review) better expresses the users' opinion of the beer than the written text; that is from the viewpoint of a computer, because the NLP model is not performing at human-level. Moreover, a user could have given a high review of the beer, but leave a rather neutral comment / text. This contributes to the low correlation coefficient. The overall gist is that the coefficient is positive, indicating that increase in the compound score is correlated with an increase in the overall review score."
   ]
  }
 ],
 "metadata": {
  "kernelspec": {
   "display_name": "base",
   "language": "python",
   "name": "python3"
  },
  "language_info": {
   "codemirror_mode": {
    "name": "ipython",
    "version": 3
   },
   "file_extension": ".py",
   "mimetype": "text/x-python",
   "name": "python",
   "nbconvert_exporter": "python",
   "pygments_lexer": "ipython3",
   "version": "3.10.12"
  },
  "orig_nbformat": 4
 },
 "nbformat": 4,
 "nbformat_minor": 2
}
